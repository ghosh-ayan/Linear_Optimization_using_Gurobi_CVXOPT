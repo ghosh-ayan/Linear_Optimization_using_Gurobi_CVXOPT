{
 "cells": [
  {
   "cell_type": "markdown",
   "id": "6e43423c",
   "metadata": {},
   "source": [
    "# Multiple Choice Question Solutions\n",
    "\n",
    "### Q1 - Answer - (a)\n",
    "\n",
    "Explanation:- Option a is the only set where all points in the line segment joining any two points of the set are entirely contained within the set.\n",
    "\n",
    "### Q2 - Answer - (a)\n",
    "\n",
    "Explanation:- Option a is the only function where the line segment joining any two points lies above the graph of the function between the two points. options c and d are either linear or partly linear, they are not strictly convex\n",
    "\n",
    "### Q3 - Answer - (a)\n",
    "\n",
    "Explanation:- The solution to linear programming is found at the vertex/corner point/extreme points. The other options do not correspond to vertices and are therefore wrong.\n",
    "\n",
    "### Q4 - Answer - (a),(b)\n",
    "\n",
    "Explanation:- Linear equations are considered both concave and convex at the same time. Other options are incorrect.\n",
    "\n",
    "### Q5 - Answer - (a)\n",
    "\n",
    "Explanation:- Users in treatment and control group see the same version in A/A testing. This is a step generally done before doing A/B testing to ensure sanity between the two groups to ensure that the two groups do not respond differently to the base variant.\n",
    "\n",
    "### Q6 - Answer - (a)\n",
    "\n",
    "Explanation:- Option a is the only set where the line segment joining any two points is entirely contained within the set.\n",
    "\n",
    "\n",
    "# Formulation Question\n",
    "\n",
    "<br>\n",
    "\n",
    "***Question 1:Write out the optimization problem. Make sure to detail the decision variables, the objective function and the constraints.***\n",
    "\n",
    "<br>\n",
    "\n",
    "## Problem Formulation\n",
    "\n",
    "### 1. Decision Variables\n",
    "\n",
    "Following are the decision variables in the problem :\n",
    "\n",
    "\\begin{align}\n",
    "&\\text{x1: Allocated Pageviews for Geico in Sports Section} \\\\\n",
    "&\\text{x2: Allocated Pageviews for Geico in National Section} \\\\\n",
    "&\\text{x3: Allocated Pageviews for Delta in Sports Section} \\\\\n",
    "&\\text{x4: Allocated Pageviews for Delta in National Section} \\\\\n",
    "&\\text{x5: Allocated Pageviews for T-Mobile in Sports Section} \\\\\n",
    "&\\text{x6: Allocated Pageviews for T-Mobile in National Section} \\\\\n",
    "&\\text{x7: Allocated Pageviews for Capital One in Sports Section} \\\\\n",
    "&\\text{x8: Allocated Pageviews for Capital One in National Section} \\\\\n",
    "\\end{align}\n",
    "\n",
    "### 2. Objective Function and Constaints\n",
    "\n",
    "It is the product of per click revenue and the sum of product of pageview decision varibles and corresponding Clickthrough Rate. Our goal is to maximize the revenue from clicks. Therefore the problem can be formulated as follows :\n",
    "\n",
    "\\begin{align}\n",
    "\\text{maximize} \\quad & 2.4 *(x_1*0.025+x_2*0.008+x_3*0.020+x_4*0.010+x_5*0.010+x_6*0.030+x_7*0.015+x_8*0.020)\\\\\n",
    "\\text{subject to constraints:}\\quad \n",
    "& x_1 \\geq 2000000\\\\\n",
    "& x_2 \\geq 1000000\\\\\n",
    "& x_3 \\geq 0\\\\\n",
    "& x_4 \\geq 1000000\\\\\n",
    "& x_5 \\geq 1000000\\\\\n",
    "& x_6 \\geq 1000000\\\\\n",
    "& x_7 \\geq 0\\\\\n",
    "& x_8 \\geq 0\\\\ \n",
    "& x_3+x_4\\geq 2000000\\text{      (Minimum total views constraint for Delta)}\\\\\n",
    "& x_5+x_6\\geq 3000000\\text{      (Minimum total views constraint for T-mobile)}\\\\\n",
    "& x_7+x_8\\geq 2000000 \\text{     (Minimum total views constraint for Capital one)}\\\\ \n",
    "& x_1+x_3+x_5+x_7\\leq 6000000\\text{ (Total Sports Section views constraint) }\\\\ \n",
    "& x_2+x_4+x_6+x_8\\leq 5000000  \\text{ (Total National Section views constraint) }\\\\\n",
    "\\end{align}\n",
    "\n",
    "\n"
   ]
  },
  {
   "cell_type": "markdown",
   "id": "ee741cac",
   "metadata": {},
   "source": [
    "<br>\n",
    "\n",
    "***Question 2:What is the optimal solution? Give the values of the decision variables and the optimal\n",
    "objective function value.***\n",
    "\n",
    "<br>"
   ]
  },
  {
   "cell_type": "markdown",
   "id": "d0400941",
   "metadata": {},
   "source": [
    "- We build a **function using Gurobi** methods to find the optimal solution based on the clickthrough rates as provided in the table.\n",
    "- Additionally, since we want to perform a **sensitivity analysis** of all solution values **based on changes to Geico Clickthrough Rate**, we pass the Geico rates as parameters to this function. This improves code reusability and ease of execution."
   ]
  },
  {
   "cell_type": "code",
   "execution_count": 1,
   "id": "deb5855a",
   "metadata": {},
   "outputs": [],
   "source": [
    "import numpy as np\n",
    "import pandas as pd\n",
    "import matplotlib.pyplot as plt\n",
    "import gurobipy as gp\n",
    "from gurobipy import GRB"
   ]
  },
  {
   "cell_type": "code",
   "execution_count": 2,
   "id": "c063be1e",
   "metadata": {},
   "outputs": [],
   "source": [
    "%matplotlib inline"
   ]
  },
  {
   "cell_type": "code",
   "execution_count": 3,
   "id": "0aea7148",
   "metadata": {
    "scrolled": true
   },
   "outputs": [],
   "source": [
    "# Create a function to solve for the optimal values of Decision Variables and perform sensitivity analysis for Geico\n",
    "# Parameter Passed : \n",
    "#         geico_sports_ctr : Geico Sports Section Clickthrough Rate\n",
    "#         geico_national_ctr : Geico National Section Clickthrough Rate\n",
    "\n",
    "def CalcOptimalPageView(geico_sports_ctr, geico_national_ctr, printoutput = True):\n",
    "\n",
    "    # Create the Model\n",
    "    optimal = gp.Model(\"pageviews\")\n",
    "    optimal.setParam('OutputFlag', True)\n",
    "\n",
    "    # Adding the variables \n",
    "    x1 = optimal.addVar(lb = 2000000,ub = GRB.INFINITY,vtype = GRB.CONTINUOUS,name=\"x1\") \n",
    "    x2 = optimal.addVar(lb = 1000000,ub = GRB.INFINITY,vtype = GRB.CONTINUOUS,name=\"x2\") \n",
    "    x3 = optimal.addVar(lb = 0,ub = GRB.INFINITY,vtype = GRB.CONTINUOUS,name=\"x3\") \n",
    "    x4 = optimal.addVar(lb = 1000000,ub = GRB.INFINITY,vtype = GRB.CONTINUOUS,name=\"x4\") \n",
    "    x5 = optimal.addVar(lb = 1000000,ub = GRB.INFINITY,vtype = GRB.CONTINUOUS,name=\"x5\") \n",
    "    x6 = optimal.addVar(lb = 1000000 ,ub = GRB.INFINITY,vtype = GRB.CONTINUOUS,name=\"x6\") \n",
    "    x7 = optimal.addVar(lb = 0,ub = GRB.INFINITY,vtype = GRB.CONTINUOUS,name=\"x7\") \n",
    "    x8 = optimal.addVar(lb = 0,ub = GRB.INFINITY,vtype = GRB.CONTINUOUS,name=\"x8\") \n",
    "\n",
    "    # Adding the constraints\n",
    "    optimal.addConstr(x3+x4 >= 2000000, 'cons1')\n",
    "    optimal.addConstr(x5+x6 >= 3000000, 'cons2')\n",
    "    optimal.addConstr(x7+x8 >= 2000000, 'cons3')\n",
    "    optimal.addConstr(x1+x3+x5+x7 <= 6000000, 'cons4')\n",
    "    optimal.addConstr(x2+x4+x6+x8 <= 5000000, 'cons5')\n",
    "\n",
    "    # Adding the objective functions\n",
    "    objective = 2.4 * (x1*geico_sports_ctr + x2*geico_national_ctr + x3*0.02 + x4*0.01 + x5*0.01 + x6*0.03 + x7*0.015 + x8*0.02)\n",
    "\n",
    "    # Solve\n",
    "    optimal.setObjective(objective,GRB.MAXIMIZE)\n",
    "    optimal.optimize()\n",
    "    \n",
    "    if printoutput:\n",
    "        # Display optimal values of decision variables\n",
    "        print(\"x1 :\", x1.X)\n",
    "        print(\"x2 :\", x2.X)\n",
    "        print(\"x3 :\", x3.X)\n",
    "        print(\"x4 :\", x4.X)\n",
    "        print(\"x5 :\", x5.X)\n",
    "        print(\"x6 :\", x6.X)\n",
    "        print(\"x7 :\", x7.X)\n",
    "        print(\"x8 :\", x8.X)\n",
    "\n",
    "        # Display optimal value of the objective function\n",
    "        print('Optimal Objective: ', optimal.objVal)\n",
    "\n",
    "    # Return an array of solution for visualization purposes\n",
    "    optimal_array = np.array([x1.X, x2.X, x3.X, x4.X, x5.X, x6.X, x7.X, x8.X, optimal.objVal])\n",
    "    return optimal_array\n",
    "\n"
   ]
  },
  {
   "cell_type": "code",
   "execution_count": 4,
   "id": "c766a200",
   "metadata": {
    "scrolled": true
   },
   "outputs": [
    {
     "name": "stdout",
     "output_type": "stream",
     "text": [
      "Set parameter Username\n",
      "Academic license - for non-commercial use only - expires 2022-06-09\n",
      "Gurobi Optimizer version 9.5.1 build v9.5.1rc2 (win64)\n",
      "Thread count: 4 physical cores, 8 logical processors, using up to 8 threads\n",
      "Optimize a model with 5 rows, 8 columns and 14 nonzeros\n",
      "Model fingerprint: 0x7d5ee073\n",
      "Coefficient statistics:\n",
      "  Matrix range     [1e+00, 1e+00]\n",
      "  Objective range  [2e-02, 7e-02]\n",
      "  Bounds range     [1e+06, 2e+06]\n",
      "  RHS range        [2e+06, 6e+06]\n",
      "Presolve removed 0 rows and 1 columns\n",
      "Presolve time: 0.00s\n",
      "Presolved: 5 rows, 7 columns, 13 nonzeros\n",
      "\n",
      "Iteration    Objective       Primal Inf.    Dual Inf.      Time\n",
      "       0    5.8320000e+05   3.750000e+05   0.000000e+00      0s\n",
      "       3    5.2320000e+05   0.000000e+00   0.000000e+00      0s\n",
      "\n",
      "Solved in 3 iterations and 0.01 seconds (0.00 work units)\n",
      "Optimal objective  5.232000000e+05\n",
      "x1 : 3000000.0\n",
      "x2 : 1000000.0\n",
      "x3 : 1000000.0\n",
      "x4 : 1000000.0\n",
      "x5 : 1000000.0\n",
      "x6 : 2000000.0\n",
      "x7 : 1000000.0\n",
      "x8 : 1000000.0\n",
      "Optimal Objective:  523200.0\n"
     ]
    }
   ],
   "source": [
    "# Find the optimal solution\n",
    "base_solution = CalcOptimalPageView(0.025,0.008)"
   ]
  },
  {
   "cell_type": "markdown",
   "id": "dc42aee5",
   "metadata": {},
   "source": [
    "As we can see the optimal values for the decision variables and the Objective function are printed above. "
   ]
  },
  {
   "cell_type": "markdown",
   "id": "ed4f5847",
   "metadata": {},
   "source": [
    "<br>\n",
    "\n",
    "***Question 3. Conduct sensitivity analyses of the optimal solution to different click-through rates as\n",
    "given in the table below. Do one cell at time if you want, e.g., sensitivity of the solution\n",
    "to different CTRs for GEICO in the Sports section, then in the National section; then do\n",
    "the same for each advertiser.***\n",
    "\n",
    "<br>\n",
    "\n",
    "To do this, we call our function created earlier with different values of Geico Clickthrough Rate. As suggested as one of the approaches, we are taking both the National and Sports Section Clickthrough Rates as same and we are calculating the optimal solutions for different CTRs starting from 0.5 to 3.5 with increments of 0.5.\n",
    "\n",
    "**Please refer to the final dataframe output below to check for the corresponding optimal values for the Decision variables as well as the Objective function for different CTRs.**"
   ]
  },
  {
   "cell_type": "code",
   "execution_count": 5,
   "id": "31be16b5",
   "metadata": {
    "scrolled": true
   },
   "outputs": [
    {
     "name": "stdout",
     "output_type": "stream",
     "text": [
      "Gurobi Optimizer version 9.5.1 build v9.5.1rc2 (win64)\n",
      "Thread count: 4 physical cores, 8 logical processors, using up to 8 threads\n",
      "Optimize a model with 5 rows, 8 columns and 14 nonzeros\n",
      "Model fingerprint: 0x9c3094fd\n",
      "Coefficient statistics:\n",
      "  Matrix range     [1e+00, 1e+00]\n",
      "  Objective range  [1e-02, 7e-02]\n",
      "  Bounds range     [1e+06, 2e+06]\n",
      "  RHS range        [2e+06, 6e+06]\n",
      "Presolve removed 0 rows and 2 columns\n",
      "Presolve time: 0.01s\n",
      "Presolved: 5 rows, 6 columns, 12 nonzeros\n",
      "\n",
      "Iteration    Objective       Primal Inf.    Dual Inf.      Time\n",
      "       0    4.4400000e+05   2.500000e+05   0.000000e+00      0s\n",
      "       1    4.2000000e+05   0.000000e+00   0.000000e+00      0s\n",
      "\n",
      "Solved in 1 iterations and 0.01 seconds (0.00 work units)\n",
      "Optimal objective  4.200000000e+05\n",
      "x1 : 2000000.0\n",
      "x2 : 1000000.0\n",
      "x3 : 1000000.0\n",
      "x4 : 1000000.0\n",
      "x5 : 1000000.0\n",
      "x6 : 3000000.0\n",
      "x7 : 2000000.0\n",
      "x8 : 0.0\n",
      "Optimal Objective:  420000.0\n"
     ]
    }
   ],
   "source": [
    "solution_1 = CalcOptimalPageView(0.005,0.005)"
   ]
  },
  {
   "cell_type": "code",
   "execution_count": 6,
   "id": "2fcdeb07",
   "metadata": {},
   "outputs": [
    {
     "name": "stdout",
     "output_type": "stream",
     "text": [
      "Gurobi Optimizer version 9.5.1 build v9.5.1rc2 (win64)\n",
      "Thread count: 4 physical cores, 8 logical processors, using up to 8 threads\n",
      "Optimize a model with 5 rows, 8 columns and 14 nonzeros\n",
      "Model fingerprint: 0x0204b731\n",
      "Coefficient statistics:\n",
      "  Matrix range     [1e+00, 1e+00]\n",
      "  Objective range  [2e-02, 7e-02]\n",
      "  Bounds range     [1e+06, 2e+06]\n",
      "  RHS range        [2e+06, 6e+06]\n",
      "Presolve removed 0 rows and 2 columns\n",
      "Presolve time: 0.02s\n",
      "Presolved: 5 rows, 6 columns, 12 nonzeros\n",
      "\n",
      "Iteration    Objective       Primal Inf.    Dual Inf.      Time\n",
      "       0    4.8000000e+05   2.500000e+05   0.000000e+00      0s\n",
      "       1    4.5600000e+05   0.000000e+00   0.000000e+00      0s\n",
      "\n",
      "Solved in 1 iterations and 0.02 seconds (0.00 work units)\n",
      "Optimal objective  4.560000000e+05\n",
      "x1 : 2000000.0\n",
      "x2 : 1000000.0\n",
      "x3 : 1000000.0\n",
      "x4 : 1000000.0\n",
      "x5 : 1000000.0\n",
      "x6 : 3000000.0\n",
      "x7 : 2000000.0\n",
      "x8 : 0.0\n",
      "Optimal Objective:  456000.0\n"
     ]
    }
   ],
   "source": [
    "solution_2 = CalcOptimalPageView(0.01,0.01)"
   ]
  },
  {
   "cell_type": "code",
   "execution_count": 7,
   "id": "8470e9bc",
   "metadata": {},
   "outputs": [
    {
     "name": "stdout",
     "output_type": "stream",
     "text": [
      "Gurobi Optimizer version 9.5.1 build v9.5.1rc2 (win64)\n",
      "Thread count: 4 physical cores, 8 logical processors, using up to 8 threads\n",
      "Optimize a model with 5 rows, 8 columns and 14 nonzeros\n",
      "Model fingerprint: 0xb97633a3\n",
      "Coefficient statistics:\n",
      "  Matrix range     [1e+00, 1e+00]\n",
      "  Objective range  [2e-02, 7e-02]\n",
      "  Bounds range     [1e+06, 2e+06]\n",
      "  RHS range        [2e+06, 6e+06]\n",
      "Presolve removed 0 rows and 2 columns\n",
      "Presolve time: 0.01s\n",
      "Presolved: 5 rows, 6 columns, 12 nonzeros\n",
      "\n",
      "Iteration    Objective       Primal Inf.    Dual Inf.      Time\n",
      "       0    5.1600000e+05   2.500000e+05   0.000000e+00      0s\n",
      "       1    4.9200000e+05   0.000000e+00   0.000000e+00      0s\n",
      "\n",
      "Solved in 1 iterations and 0.01 seconds (0.00 work units)\n",
      "Optimal objective  4.920000000e+05\n",
      "x1 : 2000000.0\n",
      "x2 : 1000000.0\n",
      "x3 : 1000000.0\n",
      "x4 : 1000000.0\n",
      "x5 : 1000000.0\n",
      "x6 : 3000000.0\n",
      "x7 : 2000000.0\n",
      "x8 : 0.0\n",
      "Optimal Objective:  492000.0\n"
     ]
    }
   ],
   "source": [
    "solution_3 = CalcOptimalPageView(0.015,0.015)"
   ]
  },
  {
   "cell_type": "code",
   "execution_count": 8,
   "id": "12a10388",
   "metadata": {},
   "outputs": [
    {
     "name": "stdout",
     "output_type": "stream",
     "text": [
      "Gurobi Optimizer version 9.5.1 build v9.5.1rc2 (win64)\n",
      "Thread count: 4 physical cores, 8 logical processors, using up to 8 threads\n",
      "Optimize a model with 5 rows, 8 columns and 14 nonzeros\n",
      "Model fingerprint: 0x7d5ba590\n",
      "Coefficient statistics:\n",
      "  Matrix range     [1e+00, 1e+00]\n",
      "  Objective range  [2e-02, 7e-02]\n",
      "  Bounds range     [1e+06, 2e+06]\n",
      "  RHS range        [2e+06, 6e+06]\n",
      "Presolve removed 0 rows and 1 columns\n",
      "Presolve time: 0.01s\n",
      "Presolved: 5 rows, 7 columns, 13 nonzeros\n",
      "\n",
      "Iteration    Objective       Primal Inf.    Dual Inf.      Time\n",
      "       0    5.5200000e+05   2.503750e+05   0.000000e+00      0s\n",
      "       2    5.2800000e+05   0.000000e+00   0.000000e+00      0s\n",
      "\n",
      "Solved in 2 iterations and 0.01 seconds (0.00 work units)\n",
      "Optimal objective  5.280000000e+05\n",
      "x1 : 2000000.0\n",
      "x2 : 1000000.0\n",
      "x3 : 1000000.0\n",
      "x4 : 1000000.0\n",
      "x5 : 1000000.0\n",
      "x6 : 3000000.0\n",
      "x7 : 2000000.0\n",
      "x8 : 0.0\n",
      "Optimal Objective:  528000.0\n"
     ]
    }
   ],
   "source": [
    "solution_4 = CalcOptimalPageView(0.02,0.02)"
   ]
  },
  {
   "cell_type": "code",
   "execution_count": 9,
   "id": "519a4295",
   "metadata": {},
   "outputs": [
    {
     "name": "stdout",
     "output_type": "stream",
     "text": [
      "Gurobi Optimizer version 9.5.1 build v9.5.1rc2 (win64)\n",
      "Thread count: 4 physical cores, 8 logical processors, using up to 8 threads\n",
      "Optimize a model with 5 rows, 8 columns and 14 nonzeros\n",
      "Model fingerprint: 0x5303d41d\n",
      "Coefficient statistics:\n",
      "  Matrix range     [1e+00, 1e+00]\n",
      "  Objective range  [2e-02, 7e-02]\n",
      "  Bounds range     [1e+06, 2e+06]\n",
      "  RHS range        [2e+06, 6e+06]\n",
      "Presolve removed 0 rows and 1 columns\n",
      "Presolve time: 0.01s\n",
      "Presolved: 5 rows, 7 columns, 13 nonzeros\n",
      "\n",
      "Iteration    Objective       Primal Inf.    Dual Inf.      Time\n",
      "       0    6.2400000e+05   3.750000e+05   0.000000e+00      0s\n",
      "       3    5.6400000e+05   0.000000e+00   0.000000e+00      0s\n",
      "\n",
      "Solved in 3 iterations and 0.01 seconds (0.00 work units)\n",
      "Optimal objective  5.640000000e+05\n",
      "x1 : 3000000.0\n",
      "x2 : 1000000.0\n",
      "x3 : 1000000.0\n",
      "x4 : 1000000.0\n",
      "x5 : 1000000.0\n",
      "x6 : 2000000.0\n",
      "x7 : 1000000.0\n",
      "x8 : 1000000.0\n",
      "Optimal Objective:  564000.0\n"
     ]
    }
   ],
   "source": [
    "solution_5 = CalcOptimalPageView(0.025,0.025)"
   ]
  },
  {
   "cell_type": "code",
   "execution_count": 10,
   "id": "c3a14ec7",
   "metadata": {
    "scrolled": true
   },
   "outputs": [
    {
     "name": "stdout",
     "output_type": "stream",
     "text": [
      "Gurobi Optimizer version 9.5.1 build v9.5.1rc2 (win64)\n",
      "Thread count: 4 physical cores, 8 logical processors, using up to 8 threads\n",
      "Optimize a model with 5 rows, 8 columns and 14 nonzeros\n",
      "Model fingerprint: 0xb46c78a0\n",
      "Coefficient statistics:\n",
      "  Matrix range     [1e+00, 1e+00]\n",
      "  Objective range  [2e-02, 7e-02]\n",
      "  Bounds range     [1e+06, 2e+06]\n",
      "  RHS range        [2e+06, 6e+06]\n",
      "Presolve time: 0.00s\n",
      "Presolved: 5 rows, 8 columns, 14 nonzeros\n",
      "\n",
      "Iteration    Objective       Primal Inf.    Dual Inf.      Time\n",
      "       0    2.5800000e+30   6.250000e+30   2.580000e+00      0s\n",
      "       6    6.1200000e+05   0.000000e+00   0.000000e+00      0s\n",
      "\n",
      "Solved in 6 iterations and 0.01 seconds (0.00 work units)\n",
      "Optimal objective  6.120000000e+05\n",
      "x1 : 3000000.0\n",
      "x2 : 1000000.0\n",
      "x3 : 1000000.0\n",
      "x4 : 1000000.0\n",
      "x5 : 1000000.0\n",
      "x6 : 2000000.0\n",
      "x7 : 1000000.0\n",
      "x8 : 1000000.0\n",
      "Optimal Objective:  612000.0\n"
     ]
    }
   ],
   "source": [
    "solution_6 = CalcOptimalPageView(0.03,0.03)"
   ]
  },
  {
   "cell_type": "code",
   "execution_count": 11,
   "id": "12ee9174",
   "metadata": {
    "scrolled": false
   },
   "outputs": [
    {
     "name": "stdout",
     "output_type": "stream",
     "text": [
      "Gurobi Optimizer version 9.5.1 build v9.5.1rc2 (win64)\n",
      "Thread count: 4 physical cores, 8 logical processors, using up to 8 threads\n",
      "Optimize a model with 5 rows, 8 columns and 14 nonzeros\n",
      "Model fingerprint: 0x277074ea\n",
      "Coefficient statistics:\n",
      "  Matrix range     [1e+00, 1e+00]\n",
      "  Objective range  [2e-02, 8e-02]\n",
      "  Bounds range     [1e+06, 2e+06]\n",
      "  RHS range        [2e+06, 6e+06]\n",
      "Presolve time: 0.01s\n",
      "Presolved: 5 rows, 8 columns, 14 nonzeros\n",
      "\n",
      "Iteration    Objective       Primal Inf.    Dual Inf.      Time\n",
      "       0    2.7720000e+30   6.250000e+30   2.772000e+00      0s\n",
      "       6    6.6000000e+05   0.000000e+00   0.000000e+00      0s\n",
      "\n",
      "Solved in 6 iterations and 0.01 seconds (0.00 work units)\n",
      "Optimal objective  6.600000000e+05\n",
      "x1 : 3000000.0\n",
      "x2 : 1000000.0\n",
      "x3 : 1000000.0\n",
      "x4 : 1000000.0\n",
      "x5 : 1000000.0\n",
      "x6 : 2000000.0\n",
      "x7 : 1000000.0\n",
      "x8 : 1000000.0\n",
      "Optimal Objective:  660000.0\n"
     ]
    }
   ],
   "source": [
    "solution_7 = CalcOptimalPageView(0.035,0.035)"
   ]
  },
  {
   "cell_type": "code",
   "execution_count": 12,
   "id": "6209c3a7",
   "metadata": {},
   "outputs": [
    {
     "data": {
      "text/html": [
       "<div>\n",
       "<style scoped>\n",
       "    .dataframe tbody tr th:only-of-type {\n",
       "        vertical-align: middle;\n",
       "    }\n",
       "\n",
       "    .dataframe tbody tr th {\n",
       "        vertical-align: top;\n",
       "    }\n",
       "\n",
       "    .dataframe thead th {\n",
       "        text-align: right;\n",
       "    }\n",
       "</style>\n",
       "<table border=\"1\" class=\"dataframe\">\n",
       "  <thead>\n",
       "    <tr style=\"text-align: right;\">\n",
       "      <th></th>\n",
       "      <th>Geico_Sport</th>\n",
       "      <th>Geico_National</th>\n",
       "      <th>Delta_Sport</th>\n",
       "      <th>Delta_National</th>\n",
       "      <th>T-mobile_Sport</th>\n",
       "      <th>T-mobile_National</th>\n",
       "      <th>CapitalOne_Sport</th>\n",
       "      <th>CapitalOne_National</th>\n",
       "      <th>OBJECTIVE FUNCTION</th>\n",
       "    </tr>\n",
       "  </thead>\n",
       "  <tbody>\n",
       "    <tr>\n",
       "      <th>Base</th>\n",
       "      <td>3000000</td>\n",
       "      <td>1000000</td>\n",
       "      <td>1000000</td>\n",
       "      <td>1000000</td>\n",
       "      <td>1000000</td>\n",
       "      <td>2000000</td>\n",
       "      <td>1000000</td>\n",
       "      <td>1000000</td>\n",
       "      <td>523200</td>\n",
       "    </tr>\n",
       "    <tr>\n",
       "      <th>0.5%</th>\n",
       "      <td>2000000</td>\n",
       "      <td>1000000</td>\n",
       "      <td>1000000</td>\n",
       "      <td>1000000</td>\n",
       "      <td>1000000</td>\n",
       "      <td>3000000</td>\n",
       "      <td>2000000</td>\n",
       "      <td>0</td>\n",
       "      <td>420000</td>\n",
       "    </tr>\n",
       "    <tr>\n",
       "      <th>1.0%</th>\n",
       "      <td>2000000</td>\n",
       "      <td>1000000</td>\n",
       "      <td>1000000</td>\n",
       "      <td>1000000</td>\n",
       "      <td>1000000</td>\n",
       "      <td>3000000</td>\n",
       "      <td>2000000</td>\n",
       "      <td>0</td>\n",
       "      <td>456000</td>\n",
       "    </tr>\n",
       "    <tr>\n",
       "      <th>1.5%</th>\n",
       "      <td>2000000</td>\n",
       "      <td>1000000</td>\n",
       "      <td>1000000</td>\n",
       "      <td>1000000</td>\n",
       "      <td>1000000</td>\n",
       "      <td>3000000</td>\n",
       "      <td>2000000</td>\n",
       "      <td>0</td>\n",
       "      <td>492000</td>\n",
       "    </tr>\n",
       "    <tr>\n",
       "      <th>2.0%</th>\n",
       "      <td>2000000</td>\n",
       "      <td>1000000</td>\n",
       "      <td>1000000</td>\n",
       "      <td>1000000</td>\n",
       "      <td>1000000</td>\n",
       "      <td>3000000</td>\n",
       "      <td>2000000</td>\n",
       "      <td>0</td>\n",
       "      <td>528000</td>\n",
       "    </tr>\n",
       "    <tr>\n",
       "      <th>2.5%</th>\n",
       "      <td>3000000</td>\n",
       "      <td>1000000</td>\n",
       "      <td>1000000</td>\n",
       "      <td>1000000</td>\n",
       "      <td>1000000</td>\n",
       "      <td>2000000</td>\n",
       "      <td>1000000</td>\n",
       "      <td>1000000</td>\n",
       "      <td>564000</td>\n",
       "    </tr>\n",
       "    <tr>\n",
       "      <th>3.0%</th>\n",
       "      <td>3000000</td>\n",
       "      <td>1000000</td>\n",
       "      <td>1000000</td>\n",
       "      <td>1000000</td>\n",
       "      <td>1000000</td>\n",
       "      <td>2000000</td>\n",
       "      <td>1000000</td>\n",
       "      <td>1000000</td>\n",
       "      <td>612000</td>\n",
       "    </tr>\n",
       "    <tr>\n",
       "      <th>3.5%</th>\n",
       "      <td>3000000</td>\n",
       "      <td>1000000</td>\n",
       "      <td>1000000</td>\n",
       "      <td>1000000</td>\n",
       "      <td>1000000</td>\n",
       "      <td>2000000</td>\n",
       "      <td>1000000</td>\n",
       "      <td>1000000</td>\n",
       "      <td>660000</td>\n",
       "    </tr>\n",
       "  </tbody>\n",
       "</table>\n",
       "</div>"
      ],
      "text/plain": [
       "      Geico_Sport  Geico_National  Delta_Sport  Delta_National  \\\n",
       "Base      3000000         1000000      1000000         1000000   \n",
       "0.5%      2000000         1000000      1000000         1000000   \n",
       "1.0%      2000000         1000000      1000000         1000000   \n",
       "1.5%      2000000         1000000      1000000         1000000   \n",
       "2.0%      2000000         1000000      1000000         1000000   \n",
       "2.5%      3000000         1000000      1000000         1000000   \n",
       "3.0%      3000000         1000000      1000000         1000000   \n",
       "3.5%      3000000         1000000      1000000         1000000   \n",
       "\n",
       "      T-mobile_Sport  T-mobile_National  CapitalOne_Sport  \\\n",
       "Base         1000000            2000000           1000000   \n",
       "0.5%         1000000            3000000           2000000   \n",
       "1.0%         1000000            3000000           2000000   \n",
       "1.5%         1000000            3000000           2000000   \n",
       "2.0%         1000000            3000000           2000000   \n",
       "2.5%         1000000            2000000           1000000   \n",
       "3.0%         1000000            2000000           1000000   \n",
       "3.5%         1000000            2000000           1000000   \n",
       "\n",
       "      CapitalOne_National  OBJECTIVE FUNCTION  \n",
       "Base              1000000              523200  \n",
       "0.5%                    0              420000  \n",
       "1.0%                    0              456000  \n",
       "1.5%                    0              492000  \n",
       "2.0%                    0              528000  \n",
       "2.5%              1000000              564000  \n",
       "3.0%              1000000              612000  \n",
       "3.5%              1000000              660000  "
      ]
     },
     "execution_count": 12,
     "metadata": {},
     "output_type": "execute_result"
    }
   ],
   "source": [
    "df_results = pd.DataFrame({'Base': base_solution,\n",
    "                           '0.5%': solution_1,\n",
    "                           '1.0%': solution_2,\n",
    "                           '1.5%': solution_3,\n",
    "                           '2.0%': solution_4,\n",
    "                           '2.5%': solution_5,\n",
    "                           '3.0%': solution_6,\n",
    "                           '3.5%': solution_7}).astype('int')\n",
    "df_results.rename(index={0:'Geico_Sport',\n",
    "                         1:'Geico_National',\n",
    "                         2:'Delta_Sport',\n",
    "                         3:'Delta_National',\n",
    "                         4:'T-mobile_Sport',\n",
    "                         5:'T-mobile_National',\n",
    "                         6:'CapitalOne_Sport',\n",
    "                         7:'CapitalOne_National',\n",
    "                         8:'OBJECTIVE FUNCTION'\n",
    "                        }, inplace=True)\n",
    "df_results.T.head(10)"
   ]
  },
  {
   "cell_type": "markdown",
   "id": "8ef26f2b",
   "metadata": {},
   "source": [
    "<br>\n",
    "\n",
    "***Question 4. Provide a visualization of your results and comment on the results.***\n",
    "\n",
    "<br>\n",
    "\n",
    "**Note :** Below, we have provided two separate visualizations to compare the decision variable optimal values and the Objective function optimal values, since they are at a different scale.\n",
    "\n",
    "### 1. Compare Optimal Decision Variable values of original solution to different values of Geico CTR"
   ]
  },
  {
   "cell_type": "code",
   "execution_count": 13,
   "id": "c681d719",
   "metadata": {
    "scrolled": true
   },
   "outputs": [
    {
     "data": {
      "image/png": "[encoded data removed]",
      "text/plain": [
       "<Figure size 720x1080 with 8 Axes>"
      ]
     },
     "metadata": {
      "needs_background": "light"
     },
     "output_type": "display_data"
    }
   ],
   "source": [
    "# Visualize sensitivity analysis\n",
    "x = np.array([\"Geico_Sports\", \"Geico_National\", \"Delta_Sports\", \"Delta_National\", \"Tmobile_Sports\", \"Tmobile_National\", \"CapOne_Sports\", \"CapOne_National\"])\n",
    "y_base = base_solution\n",
    "plt.rcParams[\"figure.figsize\"] = (10,15)\n",
    "fig, axs = plt.subplots(8, 1,sharex='col')\n",
    "axs[0].bar(x,y_base[:8], color = '#7eb54e', width=0.7)\n",
    "axs[0].set_title('Base Solution', fontstyle='italic')\n",
    "axs[1].bar(x,solution_1[:8], width=0.7)\n",
    "axs[1].set_title('Solution for Geico Clickthrough Rate = 0.5 percent', fontstyle='italic')\n",
    "axs[2].bar(x,solution_2[:8], width=0.7)\n",
    "axs[2].set_title('Solution for Geico Clickthrough Rate = 1.0 percent', fontstyle='italic')\n",
    "axs[3].bar(x,solution_3[:8], width=0.7)\n",
    "axs[3].set_title('Solution for Geico Clickthrough Rate = 1.5 percent', fontstyle='italic')\n",
    "axs[4].bar(x,solution_4[:8], width=0.7)\n",
    "axs[4].set_title('Solution for Geico Clickthrough Rate = 2.0 percent', fontstyle='italic')\n",
    "axs[5].bar(x,solution_5[:8], width=0.7)\n",
    "axs[5].set_title('Solution for Geico Clickthrough Rate = 2.5 percent', fontstyle='italic')\n",
    "axs[6].bar(x,solution_6[:8], width=0.7)\n",
    "axs[6].set_title('Solution for Geico Clickthrough Rate = 3.0 percent', fontstyle='italic')\n",
    "axs[7].bar(x,solution_7[:8], width=0.7)\n",
    "axs[7].set_title('Solution for Geico Clickthrough Rate = 3.5 percent', fontstyle='italic')\n",
    "plt.xticks(fontsize = 15, rotation = 90)\n",
    "plt.show()"
   ]
  },
  {
   "cell_type": "markdown",
   "id": "a6ffd9d3",
   "metadata": {},
   "source": [
    "#### Observations/Comments:\n",
    "\n",
    "- As we can see, as the Geico CTR rates vary, it impacts the optimal allocation of pageviews of T-Mobile views on National Section.\n",
    "\n",
    "- Also the Capital_One National pageviews are dropped to zero when Geico CTR ranges from 0.5%-2%.\n",
    "- For Geico National, Delta Sports and National and T-mobile Sport section views, optimal values remain stable at 1 million. They do not change with respect to the changes in Geico CTR.\n",
    "\n",
    "\n",
    "<br>\n",
    "\n",
    "<br>\n",
    "\n",
    "### 2. Compare Optimal Objective function values of original solution to different values of Geico CTR\n",
    "\n",
    "<br>"
   ]
  },
  {
   "cell_type": "code",
   "execution_count": 14,
   "id": "08a1ac63",
   "metadata": {},
   "outputs": [
    {
     "data": {
      "image/png": "[encoded data removed]",
      "text/plain": [
       "<Figure size 504x504 with 1 Axes>"
      ]
     },
     "metadata": {
      "needs_background": "light"
     },
     "output_type": "display_data"
    }
   ],
   "source": [
    "x = np.array([\"Base\", \"0.5\", \"1.0\",\"1.5\",\"2.0\",\"2.5\",\"3.0\",\"3.5\"])\n",
    "y = np.array([base_solution[8],solution_1[8],solution_2[8],solution_3[8],solution_4[8],solution_5[8],solution_6[8],solution_7[8]])\n",
    "plt.figure(figsize=(7, 7))\n",
    "plt.bar(x,y, color = \"#FF7B33\")\n",
    "plt.title(\"Comparison of Optimal Objective Function Value with different Clickthrough Rates\",fontsize=20)\n",
    "plt.xlabel(\"Geico Clickthrough Rate\", fontsize=15)\n",
    "plt.ylabel(\"Optimal Objective:Revenue from Ad Clicks\",fontsize=15)\n",
    "#plt.xticks(rotation = 90)\n",
    "# Pad margins so that markers don't get clipped by the axes\n",
    "plt.margins(0.2)\n",
    "# Tweak spacing to prevent clipping of tick-labels\n",
    "plt.subplots_adjust(bottom=0.15)\n",
    "plt.show()"
   ]
  },
  {
   "cell_type": "markdown",
   "id": "ba920629",
   "metadata": {},
   "source": [
    "#### Observations/Comments:\n",
    "\n",
    "- As the Geico CTRs rise (for both national and sports sections), the optimal revenue from clicks keeps increasing and is maximum for the CTR of 3.5%.\n",
    "- Compared to the base solution optimal objective function value of 523200, the optimal objective for 3.5% Geico CTR is 660000.\n"
   ]
  }
 ],
 "metadata": {
  "kernelspec": {
   "display_name": "Python 3 (ipykernel)",
   "language": "python",
   "name": "python3"
  },
  "language_info": {
   "codemirror_mode": {
    "name": "ipython",
    "version": 3
   },
   "file_extension": ".py",
   "mimetype": "text/x-python",
   "name": "python",
   "nbconvert_exporter": "python",
   "pygments_lexer": "ipython3",
   "version": "3.8.12"
  }
 },
 "nbformat": 4,
 "nbformat_minor": 5
}
