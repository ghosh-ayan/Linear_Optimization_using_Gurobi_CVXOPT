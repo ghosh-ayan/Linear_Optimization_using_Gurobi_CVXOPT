{
 "cells": [
  {
   "cell_type": "markdown",
   "id": "4451440a",
   "metadata": {},
   "source": [
    "# Multiple Choice Question Solutions\n",
    "\n",
    "### Q1 - Answer - (a)\n",
    "\n",
    "Explanation:- Option a is the only set where all points in the line segment joining any two points of the set are entirely contained within the set.\n",
    "\n",
    "### Q2 - Answer - (a)\n",
    "\n",
    "Explanation:- Option a is the only function where the line segment joining any two points lies above the graph of the function between the two points. options c and d are either linear or partly linear, they are not strictly convex\n",
    "\n",
    "### Q3 - Answer - (a)\n",
    "\n",
    "Explanation:- The solution to linear programming is found at the vertex/corner point/extreme points. The other options do not correspond to vertices and are therefore wrong.\n",
    "\n",
    "### Q4 - Answer - (a),(b)\n",
    "\n",
    "Explanation:- Linear equations are considered both concave and convex at the same time. Other options are incorrect.\n",
    "\n",
    "### Q5 - Answer - (a)\n",
    "\n",
    "Explanation:- Users in treatment and control group see the same version in A/A testing. This is a step generally done before doing A/B testing to ensure sanity between the two groups to ensure that the two groups do not respond differently to the base variant.\n",
    "\n",
    "### Q6 - Answer - (a)\n",
    "\n",
    "Explanation:- Option a is the only set where the line segment joining any two points is entirely contained within the set.\n",
    "\n",
    "\n",
    "# Formulation Question\n",
    "\n",
    "## Problem Formulation\n",
    "\n",
    "### 1. Decision Variables\n",
    "\n",
    "Following are the decision variables in the problem \n",
    "\n",
    "### 2. Objective Function\n",
    "\n",
    "### 3. Constraints\n",
    "\n",
    "\\begin{align}\n",
    "\\text{minimize} \\quad &-x_1-x_2\\\\\n",
    "\\text{s.t.}\\quad & x_1 +2x_2\\leq 3\\\\\n",
    "& 2x_1+x_2\\leq 3\\\\\n",
    "& x_1,x_2\\geq 0\n",
    "\\end{align}\n",
    "\n",
    "\n"
   ]
  },
  {
   "cell_type": "code",
   "execution_count": null,
   "id": "89e53e0d",
   "metadata": {},
   "outputs": [],
   "source": []
  },
  {
   "cell_type": "code",
   "execution_count": null,
   "id": "04b3ffc9",
   "metadata": {},
   "outputs": [],
   "source": []
  },
  {
   "cell_type": "code",
   "execution_count": null,
   "id": "7c176058",
   "metadata": {},
   "outputs": [],
   "source": []
  },
  {
   "cell_type": "code",
   "execution_count": null,
   "id": "90d1b5a8",
   "metadata": {},
   "outputs": [],
   "source": []
  },
  {
   "cell_type": "code",
   "execution_count": null,
   "id": "c0674305",
   "metadata": {},
   "outputs": [],
   "source": []
  },
  {
   "cell_type": "code",
   "execution_count": null,
   "id": "b0641e92",
   "metadata": {},
   "outputs": [],
   "source": []
  },
  {
   "cell_type": "code",
   "execution_count": null,
   "id": "890cac40",
   "metadata": {},
   "outputs": [],
   "source": []
  },
  {
   "cell_type": "code",
   "execution_count": null,
   "id": "17059259",
   "metadata": {},
   "outputs": [],
   "source": []
  },
  {
   "cell_type": "code",
   "execution_count": null,
   "id": "4931bc53",
   "metadata": {},
   "outputs": [],
   "source": []
  },
  {
   "cell_type": "code",
   "execution_count": 1,
   "id": "deb5855a",
   "metadata": {},
   "outputs": [],
   "source": [
    "import numpy as np\n",
    "import matplotlib.pyplot as plt\n",
    "import gurobipy as gp\n",
    "from gurobipy import GRB"
   ]
  },
  {
   "cell_type": "code",
   "execution_count": null,
   "id": "498d6825",
   "metadata": {},
   "outputs": [],
   "source": []
  },
  {
   "cell_type": "code",
   "execution_count": 2,
   "id": "c2015c76",
   "metadata": {},
   "outputs": [],
   "source": [
    "%matplotlib inline"
   ]
  },
  {
   "cell_type": "code",
   "execution_count": 3,
   "id": "9fb2ed16",
   "metadata": {
    "scrolled": true
   },
   "outputs": [],
   "source": [
    "# Create a function to solve for the optimal values of Decision Variables and perform sensitivity analysis for Geico\n",
    "# Parameter Passed : \n",
    "#         geico_sports_ctr : Geico Sports Section Clickthrough Rate\n",
    "#         geico_national_ctr : Geico National Section Clickthrough Rate\n",
    "\n",
    "def CalcOptimalPageView(geico_sports_ctr, geico_national_ctr, printoutput = True):\n",
    "\n",
    "    # Create the Model\n",
    "    optimal = gp.Model(\"pageviews\")\n",
    "    optimal.setParam('OutputFlag', True)\n",
    "\n",
    "    # Adding the variables \n",
    "    x1 = optimal.addVar(lb = 2000000,ub = GRB.INFINITY,vtype = GRB.CONTINUOUS,name=\"x1\") \n",
    "    x2 = optimal.addVar(lb = 1000000,ub = GRB.INFINITY,vtype = GRB.CONTINUOUS,name=\"x2\") \n",
    "    x3 = optimal.addVar(lb = 0,ub = GRB.INFINITY,vtype = GRB.CONTINUOUS,name=\"x3\") \n",
    "    x4 = optimal.addVar(lb = 1000000,ub = GRB.INFINITY,vtype = GRB.CONTINUOUS,name=\"x4\") \n",
    "    x5 = optimal.addVar(lb = 1000000,ub = GRB.INFINITY,vtype = GRB.CONTINUOUS,name=\"x5\") \n",
    "    x6 = optimal.addVar(lb = 1000000 ,ub = GRB.INFINITY,vtype = GRB.CONTINUOUS,name=\"x6\") \n",
    "    x7 = optimal.addVar(lb = 0,ub = GRB.INFINITY,vtype = GRB.CONTINUOUS,name=\"x7\") \n",
    "    x8 = optimal.addVar(lb = 0,ub = GRB.INFINITY,vtype = GRB.CONTINUOUS,name=\"x8\") \n",
    "\n",
    "    # Adding the constraints\n",
    "    optimal.addConstr(x3+x4 >= 2000000, 'cons1')\n",
    "    optimal.addConstr(x5+x6 >= 3000000, 'cons2')\n",
    "    optimal.addConstr(x7+x8 >= 2000000, 'cons3')\n",
    "    optimal.addConstr(x1+x3+x5+x7 <= 6000000, 'cons4')\n",
    "    optimal.addConstr(x2+x4+x6+x8 <= 5000000, 'cons5')\n",
    "\n",
    "    # Adding the objective functions\n",
    "    objective = 2.4 * (x1*geico_sports_ctr + x2*geico_national_ctr + x3*0.02 + x4*0.01 + x5*0.01 + x6*0.03 + x7*0.015 + x8*0.02)\n",
    "\n",
    "    # Solve\n",
    "    optimal.setObjective(objective,GRB.MAXIMIZE)\n",
    "    optimal.optimize()\n",
    "    \n",
    "    if printoutput:\n",
    "        # Display optimal values of decision variables\n",
    "        print(\"x1 :\", x1.X)\n",
    "        print(\"x2 :\", x2.X)\n",
    "        print(\"x3 :\", x3.X)\n",
    "        print(\"x4 :\", x4.X)\n",
    "        print(\"x5 :\", x5.X)\n",
    "        print(\"x6 :\", x6.X)\n",
    "        print(\"x7 :\", x7.X)\n",
    "        print(\"x8 :\", x8.X)\n",
    "\n",
    "        # Display optimal value of the objective function\n",
    "        print('Optimal Objective: ', optimal.objVal)\n",
    "\n",
    "    # Return an array of solution for visualization purposes\n",
    "    optimal_array = np.array([x1.X, x2.X, x3.X, x4.X, x5.X, x6.X, x7.X, x8.X, optimal.objVal])\n",
    "    return optimal_array\n",
    "\n"
   ]
  },
  {
   "cell_type": "code",
   "execution_count": 4,
   "id": "3c0d7d41",
   "metadata": {
    "scrolled": true
   },
   "outputs": [
    {
     "name": "stdout",
     "output_type": "stream",
     "text": [
      "Set parameter Username\n",
      "Academic license - for non-commercial use only - expires 2022-06-09\n",
      "Gurobi Optimizer version 9.5.1 build v9.5.1rc2 (win64)\n",
      "Thread count: 4 physical cores, 8 logical processors, using up to 8 threads\n",
      "Optimize a model with 5 rows, 8 columns and 14 nonzeros\n",
      "Model fingerprint: 0x7d5ee073\n",
      "Coefficient statistics:\n",
      "  Matrix range     [1e+00, 1e+00]\n",
      "  Objective range  [2e-02, 7e-02]\n",
      "  Bounds range     [1e+06, 2e+06]\n",
      "  RHS range        [2e+06, 6e+06]\n",
      "Presolve removed 0 rows and 1 columns\n",
      "Presolve time: 0.00s\n",
      "Presolved: 5 rows, 7 columns, 13 nonzeros\n",
      "\n",
      "Iteration    Objective       Primal Inf.    Dual Inf.      Time\n",
      "       0    5.8320000e+05   3.750000e+05   0.000000e+00      0s\n",
      "       3    5.2320000e+05   0.000000e+00   0.000000e+00      0s\n",
      "\n",
      "Solved in 3 iterations and 0.01 seconds (0.00 work units)\n",
      "Optimal objective  5.232000000e+05\n",
      "x1 : 3000000.0\n",
      "x2 : 1000000.0\n",
      "x3 : 1000000.0\n",
      "x4 : 1000000.0\n",
      "x5 : 1000000.0\n",
      "x6 : 2000000.0\n",
      "x7 : 1000000.0\n",
      "x8 : 1000000.0\n",
      "Optimal Objective:  523200.0\n"
     ]
    }
   ],
   "source": [
    "# Find the optimal solution\n",
    "base_solution = CalcOptimalPageView(0.025,0.008)"
   ]
  },
  {
   "cell_type": "code",
   "execution_count": 5,
   "id": "2c5eff85",
   "metadata": {
    "scrolled": true
   },
   "outputs": [
    {
     "name": "stdout",
     "output_type": "stream",
     "text": [
      "Gurobi Optimizer version 9.5.1 build v9.5.1rc2 (win64)\n",
      "Thread count: 4 physical cores, 8 logical processors, using up to 8 threads\n",
      "Optimize a model with 5 rows, 8 columns and 14 nonzeros\n",
      "Model fingerprint: 0x9c3094fd\n",
      "Coefficient statistics:\n",
      "  Matrix range     [1e+00, 1e+00]\n",
      "  Objective range  [1e-02, 7e-02]\n",
      "  Bounds range     [1e+06, 2e+06]\n",
      "  RHS range        [2e+06, 6e+06]\n",
      "Presolve removed 0 rows and 2 columns\n",
      "Presolve time: 0.01s\n",
      "Presolved: 5 rows, 6 columns, 12 nonzeros\n",
      "\n",
      "Iteration    Objective       Primal Inf.    Dual Inf.      Time\n",
      "       0    4.4400000e+05   2.500000e+05   0.000000e+00      0s\n",
      "       1    4.2000000e+05   0.000000e+00   0.000000e+00      0s\n",
      "\n",
      "Solved in 1 iterations and 0.01 seconds (0.00 work units)\n",
      "Optimal objective  4.200000000e+05\n",
      "x1 : 2000000.0\n",
      "x2 : 1000000.0\n",
      "x3 : 1000000.0\n",
      "x4 : 1000000.0\n",
      "x5 : 1000000.0\n",
      "x6 : 3000000.0\n",
      "x7 : 2000000.0\n",
      "x8 : 0.0\n",
      "Optimal Objective:  420000.0\n"
     ]
    }
   ],
   "source": [
    "solution_1 = CalcOptimalPageView(0.005,0.005)"
   ]
  },
  {
   "cell_type": "code",
   "execution_count": 6,
   "id": "9ee32256",
   "metadata": {},
   "outputs": [
    {
     "name": "stdout",
     "output_type": "stream",
     "text": [
      "Gurobi Optimizer version 9.5.1 build v9.5.1rc2 (win64)\n",
      "Thread count: 4 physical cores, 8 logical processors, using up to 8 threads\n",
      "Optimize a model with 5 rows, 8 columns and 14 nonzeros\n",
      "Model fingerprint: 0x0204b731\n",
      "Coefficient statistics:\n",
      "  Matrix range     [1e+00, 1e+00]\n",
      "  Objective range  [2e-02, 7e-02]\n",
      "  Bounds range     [1e+06, 2e+06]\n",
      "  RHS range        [2e+06, 6e+06]\n",
      "Presolve removed 0 rows and 2 columns\n",
      "Presolve time: 0.01s\n",
      "Presolved: 5 rows, 6 columns, 12 nonzeros\n",
      "\n",
      "Iteration    Objective       Primal Inf.    Dual Inf.      Time\n",
      "       0    4.8000000e+05   2.500000e+05   0.000000e+00      0s\n",
      "       1    4.5600000e+05   0.000000e+00   0.000000e+00      0s\n",
      "\n",
      "Solved in 1 iterations and 0.01 seconds (0.00 work units)\n",
      "Optimal objective  4.560000000e+05\n",
      "x1 : 2000000.0\n",
      "x2 : 1000000.0\n",
      "x3 : 1000000.0\n",
      "x4 : 1000000.0\n",
      "x5 : 1000000.0\n",
      "x6 : 3000000.0\n",
      "x7 : 2000000.0\n",
      "x8 : 0.0\n",
      "Optimal Objective:  456000.0\n"
     ]
    }
   ],
   "source": [
    "solution_2 = CalcOptimalPageView(0.01,0.01)"
   ]
  },
  {
   "cell_type": "code",
   "execution_count": 7,
   "id": "32f3f290",
   "metadata": {},
   "outputs": [
    {
     "name": "stdout",
     "output_type": "stream",
     "text": [
      "Gurobi Optimizer version 9.5.1 build v9.5.1rc2 (win64)\n",
      "Thread count: 4 physical cores, 8 logical processors, using up to 8 threads\n",
      "Optimize a model with 5 rows, 8 columns and 14 nonzeros\n",
      "Model fingerprint: 0xb97633a3\n",
      "Coefficient statistics:\n",
      "  Matrix range     [1e+00, 1e+00]\n",
      "  Objective range  [2e-02, 7e-02]\n",
      "  Bounds range     [1e+06, 2e+06]\n",
      "  RHS range        [2e+06, 6e+06]\n",
      "Presolve removed 0 rows and 2 columns\n",
      "Presolve time: 0.00s\n",
      "Presolved: 5 rows, 6 columns, 12 nonzeros\n",
      "\n",
      "Iteration    Objective       Primal Inf.    Dual Inf.      Time\n",
      "       0    5.1600000e+05   2.500000e+05   0.000000e+00      0s\n",
      "       1    4.9200000e+05   0.000000e+00   0.000000e+00      0s\n",
      "\n",
      "Solved in 1 iterations and 0.01 seconds (0.00 work units)\n",
      "Optimal objective  4.920000000e+05\n",
      "x1 : 2000000.0\n",
      "x2 : 1000000.0\n",
      "x3 : 1000000.0\n",
      "x4 : 1000000.0\n",
      "x5 : 1000000.0\n",
      "x6 : 3000000.0\n",
      "x7 : 2000000.0\n",
      "x8 : 0.0\n",
      "Optimal Objective:  492000.0\n"
     ]
    }
   ],
   "source": [
    "solution_3 = CalcOptimalPageView(0.015,0.015)"
   ]
  },
  {
   "cell_type": "code",
   "execution_count": 8,
   "id": "3678a938",
   "metadata": {},
   "outputs": [
    {
     "name": "stdout",
     "output_type": "stream",
     "text": [
      "Gurobi Optimizer version 9.5.1 build v9.5.1rc2 (win64)\n",
      "Thread count: 4 physical cores, 8 logical processors, using up to 8 threads\n",
      "Optimize a model with 5 rows, 8 columns and 14 nonzeros\n",
      "Model fingerprint: 0x7d5ba590\n",
      "Coefficient statistics:\n",
      "  Matrix range     [1e+00, 1e+00]\n",
      "  Objective range  [2e-02, 7e-02]\n",
      "  Bounds range     [1e+06, 2e+06]\n",
      "  RHS range        [2e+06, 6e+06]\n",
      "Presolve removed 0 rows and 1 columns\n",
      "Presolve time: 0.01s\n",
      "Presolved: 5 rows, 7 columns, 13 nonzeros\n",
      "\n",
      "Iteration    Objective       Primal Inf.    Dual Inf.      Time\n",
      "       0    5.5200000e+05   2.503750e+05   0.000000e+00      0s\n",
      "       2    5.2800000e+05   0.000000e+00   0.000000e+00      0s\n",
      "\n",
      "Solved in 2 iterations and 0.01 seconds (0.00 work units)\n",
      "Optimal objective  5.280000000e+05\n",
      "x1 : 2000000.0\n",
      "x2 : 1000000.0\n",
      "x3 : 1000000.0\n",
      "x4 : 1000000.0\n",
      "x5 : 1000000.0\n",
      "x6 : 3000000.0\n",
      "x7 : 2000000.0\n",
      "x8 : 0.0\n",
      "Optimal Objective:  528000.0\n"
     ]
    }
   ],
   "source": [
    "solution_4 = CalcOptimalPageView(0.02,0.02)"
   ]
  },
  {
   "cell_type": "code",
   "execution_count": 9,
   "id": "e63c6509",
   "metadata": {},
   "outputs": [
    {
     "name": "stdout",
     "output_type": "stream",
     "text": [
      "Gurobi Optimizer version 9.5.1 build v9.5.1rc2 (win64)\n",
      "Thread count: 4 physical cores, 8 logical processors, using up to 8 threads\n",
      "Optimize a model with 5 rows, 8 columns and 14 nonzeros\n",
      "Model fingerprint: 0x5303d41d\n",
      "Coefficient statistics:\n",
      "  Matrix range     [1e+00, 1e+00]\n",
      "  Objective range  [2e-02, 7e-02]\n",
      "  Bounds range     [1e+06, 2e+06]\n",
      "  RHS range        [2e+06, 6e+06]\n",
      "Presolve removed 0 rows and 1 columns\n",
      "Presolve time: 0.01s\n",
      "Presolved: 5 rows, 7 columns, 13 nonzeros\n",
      "\n",
      "Iteration    Objective       Primal Inf.    Dual Inf.      Time\n",
      "       0    6.2400000e+05   3.750000e+05   0.000000e+00      0s\n",
      "       3    5.6400000e+05   0.000000e+00   0.000000e+00      0s\n",
      "\n",
      "Solved in 3 iterations and 0.01 seconds (0.00 work units)\n",
      "Optimal objective  5.640000000e+05\n",
      "x1 : 3000000.0\n",
      "x2 : 1000000.0\n",
      "x3 : 1000000.0\n",
      "x4 : 1000000.0\n",
      "x5 : 1000000.0\n",
      "x6 : 2000000.0\n",
      "x7 : 1000000.0\n",
      "x8 : 1000000.0\n",
      "Optimal Objective:  564000.0\n"
     ]
    }
   ],
   "source": [
    "solution_5 = CalcOptimalPageView(0.025,0.025)"
   ]
  },
  {
   "cell_type": "code",
   "execution_count": 10,
   "id": "12020207",
   "metadata": {
    "scrolled": true
   },
   "outputs": [
    {
     "name": "stdout",
     "output_type": "stream",
     "text": [
      "Gurobi Optimizer version 9.5.1 build v9.5.1rc2 (win64)\n",
      "Thread count: 4 physical cores, 8 logical processors, using up to 8 threads\n",
      "Optimize a model with 5 rows, 8 columns and 14 nonzeros\n",
      "Model fingerprint: 0xb46c78a0\n",
      "Coefficient statistics:\n",
      "  Matrix range     [1e+00, 1e+00]\n",
      "  Objective range  [2e-02, 7e-02]\n",
      "  Bounds range     [1e+06, 2e+06]\n",
      "  RHS range        [2e+06, 6e+06]\n",
      "Presolve time: 0.01s\n",
      "Presolved: 5 rows, 8 columns, 14 nonzeros\n",
      "\n",
      "Iteration    Objective       Primal Inf.    Dual Inf.      Time\n",
      "       0    2.5800000e+30   6.250000e+30   2.580000e+00      0s\n",
      "       6    6.1200000e+05   0.000000e+00   0.000000e+00      0s\n",
      "\n",
      "Solved in 6 iterations and 0.01 seconds (0.00 work units)\n",
      "Optimal objective  6.120000000e+05\n",
      "x1 : 3000000.0\n",
      "x2 : 1000000.0\n",
      "x3 : 1000000.0\n",
      "x4 : 1000000.0\n",
      "x5 : 1000000.0\n",
      "x6 : 2000000.0\n",
      "x7 : 1000000.0\n",
      "x8 : 1000000.0\n",
      "Optimal Objective:  612000.0\n"
     ]
    }
   ],
   "source": [
    "solution_6 = CalcOptimalPageView(0.03,0.03)"
   ]
  },
  {
   "cell_type": "code",
   "execution_count": 11,
   "id": "9b186182",
   "metadata": {},
   "outputs": [
    {
     "name": "stdout",
     "output_type": "stream",
     "text": [
      "Gurobi Optimizer version 9.5.1 build v9.5.1rc2 (win64)\n",
      "Thread count: 4 physical cores, 8 logical processors, using up to 8 threads\n",
      "Optimize a model with 5 rows, 8 columns and 14 nonzeros\n",
      "Model fingerprint: 0x277074ea\n",
      "Coefficient statistics:\n",
      "  Matrix range     [1e+00, 1e+00]\n",
      "  Objective range  [2e-02, 8e-02]\n",
      "  Bounds range     [1e+06, 2e+06]\n",
      "  RHS range        [2e+06, 6e+06]\n",
      "Presolve time: 0.00s\n",
      "Presolved: 5 rows, 8 columns, 14 nonzeros\n",
      "\n",
      "Iteration    Objective       Primal Inf.    Dual Inf.      Time\n",
      "       0    2.7720000e+30   6.250000e+30   2.772000e+00      0s\n",
      "       6    6.6000000e+05   0.000000e+00   0.000000e+00      0s\n",
      "\n",
      "Solved in 6 iterations and 0.01 seconds (0.00 work units)\n",
      "Optimal objective  6.600000000e+05\n",
      "x1 : 3000000.0\n",
      "x2 : 1000000.0\n",
      "x3 : 1000000.0\n",
      "x4 : 1000000.0\n",
      "x5 : 1000000.0\n",
      "x6 : 2000000.0\n",
      "x7 : 1000000.0\n",
      "x8 : 1000000.0\n",
      "Optimal Objective:  660000.0\n"
     ]
    }
   ],
   "source": [
    "solution_7 = CalcOptimalPageView(0.035,0.035)"
   ]
  },
  {
   "cell_type": "code",
   "execution_count": 50,
   "id": "750ad745",
   "metadata": {
    "scrolled": true
   },
   "outputs": [
    {
     "data": {
      "image/png": "[encoded data removed]",
      "text/plain": [
       "<Figure size 720x1800 with 8 Axes>"
      ]
     },
     "metadata": {
      "needs_background": "light"
     },
     "output_type": "display_data"
    }
   ],
   "source": [
    "# Visualize sensitivity analysis\n",
    "x = np.array([\"Geico_Sports\", \"Geico_National\", \"Delta_Sports\", \"Delta_National\", \"Tmobile_Sports\", \"Tmobile_National\", \"CapOne_Sports\", \"CapOne_National\"])\n",
    "y_base = base_solution\n",
    "plt.figure(figsize=(10, 25))\n",
    "fig, axs = plt.subplots(8, 1,sharex='col')\n",
    "axs[0].bar(x,y_base[:8], color = '#7eb54e', width=0.7)\n",
    "axs[0].set_title('Base Solution', fontstyle='italic')\n",
    "axs[1].bar(x,solution_1[:8], width=0.7)\n",
    "axs[1].set_title('Solution for Geico Clickthrough Rate = 0.5 percent', fontstyle='italic')\n",
    "axs[2].bar(x,solution_2[:8], width=0.7)\n",
    "axs[2].set_title('Solution for Geico Clickthrough Rate = 1.0 percent', fontstyle='italic')\n",
    "axs[3].bar(x,solution_3[:8], width=0.7)\n",
    "axs[3].set_title('Solution for Geico Clickthrough Rate = 1.5 percent', fontstyle='italic')\n",
    "axs[4].bar(x,solution_4[:8], width=0.7)\n",
    "axs[4].set_title('Solution for Geico Clickthrough Rate = 2.0 percent', fontstyle='italic')\n",
    "axs[5].bar(x,solution_5[:8], width=0.7)\n",
    "axs[5].set_title('Solution for Geico Clickthrough Rate = 2.5 percent', fontstyle='italic')\n",
    "axs[6].bar(x,solution_6[:8], width=0.7)\n",
    "axs[6].set_title('Solution for Geico Clickthrough Rate = 3.0 percent', fontstyle='italic')\n",
    "axs[7].bar(x,solution_7[:8], width=0.7)\n",
    "axs[7].set_title('Solution for Geico Clickthrough Rate = 3.5 percent', fontstyle='italic')\n",
    "plt.xticks(fontsize = 15, rotation = 90)\n",
    "plt.show()"
   ]
  },
  {
   "cell_type": "code",
   "execution_count": 58,
   "id": "2ad7c1a6",
   "metadata": {},
   "outputs": [
    {
     "data": {
      "image/png": "[encoded data removed]",
      "text/plain": [
       "<Figure size 504x504 with 1 Axes>"
      ]
     },
     "metadata": {
      "needs_background": "light"
     },
     "output_type": "display_data"
    }
   ],
   "source": [
    "x = np.array([\"Base\", \"0.5\", \"1.0\",\"1.5\",\"2.0\",\"2.5\",\"3.0\",\"3.5\"])\n",
    "y = np.array([base_solution[8],solution_1[8],solution_2[8],solution_3[8],solution_4[8],solution_5[8],solution_6[8],solution_7[8]])\n",
    "plt.figure(figsize=(7, 7))\n",
    "plt.bar(x,y, color = \"#FF7B33\")\n",
    "plt.title(\"Comparison of Optimal Objective Function Value with different Clickthrough Rates\",fontsize=20)\n",
    "plt.xlabel(\"Geico Clickthrough Rate\", fontsize=15)\n",
    "plt.ylabel(\"Optimal Objective:Revenue from Ad Clicks\",fontsize=15)\n",
    "#plt.xticks(rotation = 90)\n",
    "# Pad margins so that markers don't get clipped by the axes\n",
    "plt.margins(0.2)\n",
    "# Tweak spacing to prevent clipping of tick-labels\n",
    "plt.subplots_adjust(bottom=0.15)\n",
    "plt.show()"
   ]
  }
 ],
 "metadata": {
  "kernelspec": {
   "display_name": "Python 3 (ipykernel)",
   "language": "python",
   "name": "python3"
  },
  "language_info": {
   "codemirror_mode": {
    "name": "ipython",
    "version": 3
   },
   "file_extension": ".py",
   "mimetype": "text/x-python",
   "name": "python",
   "nbconvert_exporter": "python",
   "pygments_lexer": "ipython3",
   "version": "3.8.12"
  }
 },
 "nbformat": 4,
 "nbformat_minor": 5
}
